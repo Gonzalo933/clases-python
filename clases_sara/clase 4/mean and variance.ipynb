{
 "cells": [
  {
   "cell_type": "markdown",
   "metadata": {},
   "source": [
    "Now suppose you have w1 invested in stock X and w2 invested in stock Y.\n",
    "\n",
    "E(w1.X + w2.Y) = w1.E(X) + w2.E(Y)\n",
    "\n",
    "var(w1.X + w2.Y) = w12. σ2x + w22. σ2y + 2w1..w2.ρσxσy\n",
    "\n",
    "Ex: Assume E(X)= 15%, E(Y)= 10%, σx =0.12, σy =0.16, ρ = 0.67 \n",
    "\n",
    "a.WAP to calculate the lowest variance combination of two assets – portfolio optimization.\n",
    "\n",
    "b.Show the allocation frontier in a scatter plot, identifying:\n",
    "The lowest variance portfolio"
   ]
  },
  {
   "cell_type": "code",
   "execution_count": 11,
   "metadata": {},
   "outputs": [],
   "source": [
    "# w1 y w2 es el porcentaje que inviertes en cada acción\n",
    "import numpy as np"
   ]
  },
  {
   "cell_type": "code",
   "execution_count": 12,
   "metadata": {},
   "outputs": [],
   "source": [
    "def variance(w_x, sigma_x=0.12, sigma_y=0.16, rho=0.67):\n",
    "    w_y = 1 - w_x\n",
    "    return w_x**2 * sigma_x**2 + w_y**2 * sigma_y**2 + 2 * w_x * w_y * rho * np.sqrt(sigma_x) * np.sqrt(sigma_y)"
   ]
  },
  {
   "cell_type": "code",
   "execution_count": 13,
   "metadata": {},
   "outputs": [
    {
     "data": {
      "text/plain": [
       "0.03759082619142454"
      ]
     },
     "execution_count": 13,
     "metadata": {},
     "output_type": "execute_result"
    }
   ],
   "source": [
    "variance(w_x=0.1)"
   ]
  },
  {
   "cell_type": "code",
   "execution_count": 14,
   "metadata": {},
   "outputs": [],
   "source": [
    "def portfolio_value(w_x, sigma_x=0.12, sigma_y=0.16, rho=0.67, e_x=0.15, e_y=0.1):\n",
    "    w_y = 1 - w_x\n",
    "    variance = w_x**2 * sigma_x**2 + w_y**2 * sigma_y**2 + 2 * w_x * w_y * rho * np.sqrt(sigma_x) * np.sqrt(sigma_y)\n",
    "    expected_return = w_x * e_x + w_y * e_y\n",
    "    return expected_return, variance"
   ]
  },
  {
   "cell_type": "code",
   "execution_count": 21,
   "metadata": {},
   "outputs": [
    {
     "data": {
      "text/plain": [
       "(array([0.105, 0.105]), array([0.03759083, 0.03759083]))"
      ]
     },
     "execution_count": 21,
     "metadata": {},
     "output_type": "execute_result"
    }
   ],
   "source": [
    "portfolio_value(np.array([0.1, 0.1]))"
   ]
  },
  {
   "cell_type": "code",
   "execution_count": null,
   "metadata": {},
   "outputs": [],
   "source": []
  }
 ],
 "metadata": {
  "kernelspec": {
   "display_name": "Python 3",
   "language": "python",
   "name": "python3"
  },
  "language_info": {
   "codemirror_mode": {
    "name": "ipython",
    "version": 3
   },
   "file_extension": ".py",
   "mimetype": "text/x-python",
   "name": "python",
   "nbconvert_exporter": "python",
   "pygments_lexer": "ipython3",
   "version": "3.7.3"
  }
 },
 "nbformat": 4,
 "nbformat_minor": 2
}
