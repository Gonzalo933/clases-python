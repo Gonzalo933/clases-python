{
 "cells": [
  {
   "cell_type": "code",
   "execution_count": 3,
   "metadata": {},
   "outputs": [],
   "source": [
    "import pandas_datareader as pdr\n",
    "import datetime"
   ]
  },
  {
   "cell_type": "code",
   "execution_count": 4,
   "metadata": {},
   "outputs": [],
   "source": [
    "aapl = pdr.get_data_yahoo('AAPL', \n",
    "                          start=datetime.datetime(2006, 10, 1), \n",
    "                          end=datetime.datetime(2012, 1, 1))"
   ]
  },
  {
   "cell_type": "code",
   "execution_count": 5,
   "metadata": {},
   "outputs": [
    {
     "data": {
      "text/html": [
       "<div>\n",
       "<style scoped>\n",
       "    .dataframe tbody tr th:only-of-type {\n",
       "        vertical-align: middle;\n",
       "    }\n",
       "\n",
       "    .dataframe tbody tr th {\n",
       "        vertical-align: top;\n",
       "    }\n",
       "\n",
       "    .dataframe thead th {\n",
       "        text-align: right;\n",
       "    }\n",
       "</style>\n",
       "<table border=\"1\" class=\"dataframe\">\n",
       "  <thead>\n",
       "    <tr style=\"text-align: right;\">\n",
       "      <th></th>\n",
       "      <th>High</th>\n",
       "      <th>Low</th>\n",
       "      <th>Open</th>\n",
       "      <th>Close</th>\n",
       "      <th>Volume</th>\n",
       "      <th>Adj Close</th>\n",
       "    </tr>\n",
       "    <tr>\n",
       "      <th>Date</th>\n",
       "      <th></th>\n",
       "      <th></th>\n",
       "      <th></th>\n",
       "      <th></th>\n",
       "      <th></th>\n",
       "      <th></th>\n",
       "    </tr>\n",
       "  </thead>\n",
       "  <tbody>\n",
       "    <tr>\n",
       "      <th>2006-10-02</th>\n",
       "      <td>2.709643</td>\n",
       "      <td>2.653571</td>\n",
       "      <td>2.682143</td>\n",
       "      <td>2.673571</td>\n",
       "      <td>712639200</td>\n",
       "      <td>2.306358</td>\n",
       "    </tr>\n",
       "    <tr>\n",
       "      <th>2006-10-03</th>\n",
       "      <td>2.676786</td>\n",
       "      <td>2.613929</td>\n",
       "      <td>2.658929</td>\n",
       "      <td>2.645714</td>\n",
       "      <td>790708800</td>\n",
       "      <td>2.282327</td>\n",
       "    </tr>\n",
       "    <tr>\n",
       "      <th>2006-10-04</th>\n",
       "      <td>2.695000</td>\n",
       "      <td>2.612857</td>\n",
       "      <td>2.646429</td>\n",
       "      <td>2.692143</td>\n",
       "      <td>829082800</td>\n",
       "      <td>2.322379</td>\n",
       "    </tr>\n",
       "    <tr>\n",
       "      <th>2006-10-05</th>\n",
       "      <td>2.720000</td>\n",
       "      <td>2.647500</td>\n",
       "      <td>2.661786</td>\n",
       "      <td>2.672500</td>\n",
       "      <td>683883200</td>\n",
       "      <td>2.305434</td>\n",
       "    </tr>\n",
       "    <tr>\n",
       "      <th>2006-10-06</th>\n",
       "      <td>2.680000</td>\n",
       "      <td>2.636071</td>\n",
       "      <td>2.657857</td>\n",
       "      <td>2.650714</td>\n",
       "      <td>466958800</td>\n",
       "      <td>2.286640</td>\n",
       "    </tr>\n",
       "    <tr>\n",
       "      <th>...</th>\n",
       "      <td>...</td>\n",
       "      <td>...</td>\n",
       "      <td>...</td>\n",
       "      <td>...</td>\n",
       "      <td>...</td>\n",
       "      <td>...</td>\n",
       "    </tr>\n",
       "    <tr>\n",
       "      <th>2011-12-23</th>\n",
       "      <td>14.413929</td>\n",
       "      <td>14.267500</td>\n",
       "      <td>14.274643</td>\n",
       "      <td>14.404643</td>\n",
       "      <td>269399200</td>\n",
       "      <td>12.426173</td>\n",
       "    </tr>\n",
       "    <tr>\n",
       "      <th>2011-12-27</th>\n",
       "      <td>14.610357</td>\n",
       "      <td>14.393571</td>\n",
       "      <td>14.396429</td>\n",
       "      <td>14.518929</td>\n",
       "      <td>265076000</td>\n",
       "      <td>12.524759</td>\n",
       "    </tr>\n",
       "    <tr>\n",
       "      <th>2011-12-28</th>\n",
       "      <td>14.580357</td>\n",
       "      <td>14.333571</td>\n",
       "      <td>14.531786</td>\n",
       "      <td>14.380000</td>\n",
       "      <td>228662000</td>\n",
       "      <td>12.404916</td>\n",
       "    </tr>\n",
       "    <tr>\n",
       "      <th>2011-12-29</th>\n",
       "      <td>14.487500</td>\n",
       "      <td>14.303929</td>\n",
       "      <td>14.407143</td>\n",
       "      <td>14.468571</td>\n",
       "      <td>215978000</td>\n",
       "      <td>12.481320</td>\n",
       "    </tr>\n",
       "    <tr>\n",
       "      <th>2011-12-30</th>\n",
       "      <td>14.510000</td>\n",
       "      <td>14.410357</td>\n",
       "      <td>14.411071</td>\n",
       "      <td>14.464286</td>\n",
       "      <td>179662000</td>\n",
       "      <td>12.477626</td>\n",
       "    </tr>\n",
       "  </tbody>\n",
       "</table>\n",
       "<p>1323 rows × 6 columns</p>\n",
       "</div>"
      ],
      "text/plain": [
       "                 High        Low       Open      Close     Volume  Adj Close\n",
       "Date                                                                        \n",
       "2006-10-02   2.709643   2.653571   2.682143   2.673571  712639200   2.306358\n",
       "2006-10-03   2.676786   2.613929   2.658929   2.645714  790708800   2.282327\n",
       "2006-10-04   2.695000   2.612857   2.646429   2.692143  829082800   2.322379\n",
       "2006-10-05   2.720000   2.647500   2.661786   2.672500  683883200   2.305434\n",
       "2006-10-06   2.680000   2.636071   2.657857   2.650714  466958800   2.286640\n",
       "...               ...        ...        ...        ...        ...        ...\n",
       "2011-12-23  14.413929  14.267500  14.274643  14.404643  269399200  12.426173\n",
       "2011-12-27  14.610357  14.393571  14.396429  14.518929  265076000  12.524759\n",
       "2011-12-28  14.580357  14.333571  14.531786  14.380000  228662000  12.404916\n",
       "2011-12-29  14.487500  14.303929  14.407143  14.468571  215978000  12.481320\n",
       "2011-12-30  14.510000  14.410357  14.411071  14.464286  179662000  12.477626\n",
       "\n",
       "[1323 rows x 6 columns]"
      ]
     },
     "execution_count": 5,
     "metadata": {},
     "output_type": "execute_result"
    }
   ],
   "source": [
    "aapl"
   ]
  },
  {
   "cell_type": "code",
   "execution_count": 8,
   "metadata": {},
   "outputs": [
    {
     "data": {
      "text/plain": [
       "Date\n",
       "2006-10-02   -0.319590\n",
       "2006-10-03   -0.497007\n",
       "2006-10-04    1.727381\n",
       "2006-10-05    0.402505\n",
       "2006-10-06   -0.268751\n",
       "                ...   \n",
       "2011-12-23    0.910707\n",
       "2011-12-27    0.850902\n",
       "2011-12-28   -1.044509\n",
       "2011-12-29    0.426372\n",
       "2011-12-30    0.369265\n",
       "Length: 1323, dtype: float64"
      ]
     },
     "execution_count": 8,
     "metadata": {},
     "output_type": "execute_result"
    }
   ],
   "source": [
    "daily_return = (aapl[\"Close\"] - aapl[\"Open\"]) / aapl[\"Open\"] * 100\n",
    "daily_return"
   ]
  },
  {
   "cell_type": "code",
   "execution_count": 10,
   "metadata": {},
   "outputs": [
    {
     "data": {
      "text/plain": [
       "<matplotlib.axes._subplots.AxesSubplot at 0x7fd88b983e50>"
      ]
     },
     "execution_count": 10,
     "metadata": {},
     "output_type": "execute_result"
    },
    {
     "data": {
      "image/png": "[encoded data removed]",
      "text/plain": [
       "<Figure size 432x288 with 1 Axes>"
      ]
     },
     "metadata": {
      "needs_background": "light"
     },
     "output_type": "display_data"
    }
   ],
   "source": [
    "daily_return.plot.hist(bins=100)"
   ]
  },
  {
   "cell_type": "markdown",
   "metadata": {},
   "source": [
    "Standard Error\n",
    "$ SE = \\frac{\\sigma}{\\sqrt{n}} $\n",
    "\n",
    "test statistic\n",
    "\n",
    "$ t = \\frac{\\bar{X} - \\mu_0}{SE} $\n",
    "\n",
    "$ \\mu_0 $ es la media a \"testear\""
   ]
  },
  {
   "cell_type": "code",
   "execution_count": 19,
   "metadata": {},
   "outputs": [
    {
     "data": {
      "text/plain": [
       "0.0563002205988837"
      ]
     },
     "execution_count": 19,
     "metadata": {},
     "output_type": "execute_result"
    }
   ],
   "source": [
    "mu_0 = 0\n",
    "standard_error = daily_return.std() / len(daily_return)**0.5\n",
    "\n",
    "standard_error"
   ]
  },
  {
   "cell_type": "code",
   "execution_count": 20,
   "metadata": {},
   "outputs": [
    {
     "data": {
      "text/plain": [
       "-0.27363470775220067"
      ]
     },
     "execution_count": 20,
     "metadata": {},
     "output_type": "execute_result"
    }
   ],
   "source": [
    "t = (daily_return.mean() - mu_0) / standard_error\n",
    "t"
   ]
  },
  {
   "cell_type": "code",
   "execution_count": 21,
   "metadata": {},
   "outputs": [],
   "source": [
    "from scipy.stats import ttest_1samp"
   ]
  },
  {
   "cell_type": "code",
   "execution_count": 24,
   "metadata": {},
   "outputs": [
    {
     "data": {
      "text/plain": [
       "Ttest_1sampResult(statistic=-0.2736347077522001, pvalue=0.7844081027219088)"
      ]
     },
     "execution_count": 24,
     "metadata": {},
     "output_type": "execute_result"
    }
   ],
   "source": [
    "ttest_1samp(daily_return, mu_0)"
   ]
  },
  {
   "cell_type": "markdown",
   "metadata": {},
   "source": [
    "pvalue > 0.95 ? No, por lo que rechazamos la hipótesis nula\n",
    "Si fuera mayor de 0.95 solo podriamos NO rechazarla (nunca aceptarla)"
   ]
  }
 ],
 "metadata": {
  "kernelspec": {
   "display_name": "Python 3",
   "language": "python",
   "name": "python3"
  },
  "language_info": {
   "codemirror_mode": {
    "name": "ipython",
    "version": 3
   },
   "file_extension": ".py",
   "mimetype": "text/x-python",
   "name": "python",
   "nbconvert_exporter": "python",
   "pygments_lexer": "ipython3",
   "version": "3.7.6"
  }
 },
 "nbformat": 4,
 "nbformat_minor": 4
}
