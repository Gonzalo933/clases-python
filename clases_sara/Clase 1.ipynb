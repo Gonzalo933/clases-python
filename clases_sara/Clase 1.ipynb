{
 "cells": [
  {
   "cell_type": "code",
   "execution_count": 23,
   "metadata": {},
   "outputs": [],
   "source": [
    "# Tipos de variables\n",
    "# Enteros\n",
    "variable_prueba = 12 + 3\n",
    "# String\n",
    "hola = \"hola\"\n",
    "# Float\n",
    "numero_decimal = 3.5\n",
    "# Lista de enteros\n",
    "lista_peq = [0, 1 ,2]\n",
    "# Lista\n",
    "lista_grande = [3, 4, 5, 6, 7]\n",
    "\n",
    "# Se pueden hacer operaciones con listas y con string. El operado + indica concatenar dos (o mas)listas\n",
    "lista_final = lista_peq + lista_grande"
   ]
  },
  {
   "cell_type": "code",
   "execution_count": 28,
   "metadata": {},
   "outputs": [
    {
     "name": "stdout",
     "output_type": "stream",
     "text": [
      "6\n"
     ]
    }
   ],
   "source": [
    "# Para acceder a un elemento de la lista usamos [] con el indice dentro. Empezando en 0. Es decir\n",
    "# la primera posicion sería [0], la siguiente [1]\n",
    "print(lista_final[1])\n",
    "# También podemos usar indices negativos. Lo que indica que empezamos desde el final.\n",
    "print(lista_final[-2])"
   ]
  },
  {
   "cell_type": "code",
   "execution_count": 32,
   "metadata": {},
   "outputs": [
    {
     "name": "stdout",
     "output_type": "stream",
     "text": [
      "8\n"
     ]
    }
   ],
   "source": [
    "# Operador +=\n",
    "numero = 3\n",
    "# Equivalente\n",
    "#numero = numero + 5\n",
    "numero += 5\n",
    "print(numero)"
   ]
  },
  {
   "cell_type": "code",
   "execution_count": 34,
   "metadata": {},
   "outputs": [],
   "source": [
    "# Las variables de tipo Boolean solo tienen dos posibles valores.\n",
    "variable_boolean = True\n",
    "variable_boolean = False\n"
   ]
  },
  {
   "cell_type": "code",
   "execution_count": 36,
   "metadata": {},
   "outputs": [
    {
     "name": "stdout",
     "output_type": "stream",
     "text": [
      "1\n"
     ]
    }
   ],
   "source": [
    "# Operador modulo. Nos da el resto de una division\n",
    "print(5 % 2)"
   ]
  },
  {
   "cell_type": "code",
   "execution_count": 41,
   "metadata": {},
   "outputs": [
    {
     "name": "stdout",
     "output_type": "stream",
     "text": [
      "hola adios\n",
      "holaholahola\n"
     ]
    }
   ],
   "source": [
    "# String\n",
    "saludo = \"hola\"\n",
    "espacio = \" \"\n",
    "despedida = \"adios\"\n",
    "\n",
    "print(saludo + \" \" + despedida)\n",
    "print(saludo * 3)"
   ]
  },
  {
   "cell_type": "code",
   "execution_count": 40,
   "metadata": {},
   "outputs": [
    {
     "ename": "TypeError",
     "evalue": "can only concatenate str (not \"int\") to str",
     "output_type": "error",
     "traceback": [
      "\u001b[0;31m---------------------------------------------------------------------------\u001b[0m",
      "\u001b[0;31mTypeError\u001b[0m                                 Traceback (most recent call last)",
      "\u001b[0;32m<ipython-input-40-e3d365f6853b>\u001b[0m in \u001b[0;36m<module>\u001b[0;34m\u001b[0m\n\u001b[0;32m----> 1\u001b[0;31m \u001b[0msaludo\u001b[0m \u001b[0;34m+\u001b[0m \u001b[0mnumero\u001b[0m\u001b[0;34m\u001b[0m\u001b[0;34m\u001b[0m\u001b[0m\n\u001b[0m",
      "\u001b[0;31mTypeError\u001b[0m: can only concatenate str (not \"int\") to str"
     ]
    }
   ],
   "source": [
    "# Ejemplo de error. Intentamos sumar un string y un entero\n",
    "saludo + numero"
   ]
  },
  {
   "cell_type": "code",
   "execution_count": 47,
   "metadata": {},
   "outputs": [
    {
     "name": "stdout",
     "output_type": "stream",
     "text": [
      "False\n",
      "True\n",
      "True\n",
      "True\n",
      "False\n"
     ]
    }
   ],
   "source": [
    "# operadores de comparación\n",
    "print(3 > 4)\n",
    "print(4 > 3)\n",
    "print(4 >= 4)\n",
    "print(4 == 4)\n",
    "print(4 != 4)"
   ]
  },
  {
   "cell_type": "code",
   "execution_count": 53,
   "metadata": {},
   "outputs": [
    {
     "name": "stdout",
     "output_type": "stream",
     "text": [
      "True\n",
      "False\n",
      "True\n",
      "True\n",
      "False\n",
      "True\n"
     ]
    }
   ],
   "source": [
    "# Operaciones logicas\n",
    "print(True and True)\n",
    "print(True and False)\n",
    "print(True or False)\n",
    "print(True or True)\n",
    "print(False or False)"
   ]
  },
  {
   "cell_type": "code",
   "execution_count": 56,
   "metadata": {},
   "outputs": [
    {
     "name": "stdout",
     "output_type": "stream",
     "text": [
      "True\n",
      "False\n",
      "False\n"
     ]
    }
   ],
   "source": [
    "# Expresiones logicas\n",
    "print(4 > 3 and 5 > 2)\n",
    "print(1 > 3 and 5 > 2)\n",
    "print(4 < 1 or 5 == 6)"
   ]
  },
  {
   "cell_type": "code",
   "execution_count": 59,
   "metadata": {},
   "outputs": [
    {
     "name": "stdout",
     "output_type": "stream",
     "text": [
      "False\n",
      "True\n",
      "False\n"
     ]
    }
   ],
   "source": [
    "# Operador not\n",
    "print(not True)\n",
    "print(4 > 2)\n",
    "print(not 4 > 2)"
   ]
  },
  {
   "cell_type": "code",
   "execution_count": 60,
   "metadata": {},
   "outputs": [
    {
     "name": "stdout",
     "output_type": "stream",
     "text": [
      "4 es mayor que 2\n",
      "Hola\n"
     ]
    }
   ],
   "source": [
    "# Setencia if\n",
    "if 4 > 2:\n",
    "    print(\"4 es mayor que 2\")\n",
    "print(\"Hola\")"
   ]
  },
  {
   "cell_type": "code",
   "execution_count": 65,
   "metadata": {},
   "outputs": [
    {
     "name": "stdout",
     "output_type": "stream",
     "text": [
      "final\n",
      "8\n"
     ]
    }
   ],
   "source": [
    "# El margen agrupa operaciones a ejecutar si se cumple la condición del if\n",
    "# if <condicion> :\n",
    "numero = 8\n",
    "if 4 == 6:\n",
    "    print(\"Hola\")\n",
    "    print(\"Adios\")\n",
    "    numero = 3\n",
    "print(\"final\")\n",
    "print(numero)"
   ]
  },
  {
   "cell_type": "code",
   "execution_count": 64,
   "metadata": {},
   "outputs": [
    {
     "name": "stdout",
     "output_type": "stream",
     "text": [
      "5\n"
     ]
    }
   ],
   "source": [
    "# Las variables se sobreescriben\n",
    "numero = 3\n",
    "numero = 4\n",
    "numero = 5\n",
    "print(numero)"
   ]
  },
  {
   "cell_type": "code",
   "execution_count": 70,
   "metadata": {},
   "outputs": [
    {
     "name": "stdout",
     "output_type": "stream",
     "text": [
      "adios\n"
     ]
    }
   ],
   "source": [
    "if 4 == 5:\n",
    "    print(\"Hola\")\n",
    "else:\n",
    "    print(\"adios\")"
   ]
  },
  {
   "cell_type": "code",
   "execution_count": 73,
   "metadata": {},
   "outputs": [
    {
     "name": "stdout",
     "output_type": "stream",
     "text": [
      "adios\n"
     ]
    }
   ],
   "source": [
    "if 4 == 5 or 4 > 2 and 5< 5:\n",
    "    print(\"Hola\")\n",
    "else:\n",
    "    print(\"adios\")"
   ]
  },
  {
   "cell_type": "code",
   "execution_count": 83,
   "metadata": {},
   "outputs": [
    {
     "name": "stdout",
     "output_type": "stream",
     "text": [
      "tercera condicion\n"
     ]
    }
   ],
   "source": [
    "operacion = 1 + 3\n",
    "\n",
    "if operacion > 100:\n",
    "    print(\"primera condicion\")\n",
    "elif operacion == 3:\n",
    "    print(\"Segunda condicion\")\n",
    "elif operacion == 4:\n",
    "    print(\"tercera condicion\")\n",
    "else:\n",
    "    print(\"cuarta condicion\")"
   ]
  },
  {
   "cell_type": "code",
   "execution_count": 88,
   "metadata": {},
   "outputs": [
    {
     "name": "stdout",
     "output_type": "stream",
     "text": [
      "cuarta condicion\n"
     ]
    }
   ],
   "source": [
    "try:\n",
    "    infinito = 4 / 1\n",
    "except:\n",
    "    print(\"ha habido un error\")\n",
    "    infinito = 100000000\n",
    "if infinito > 100:\n",
    "    print(\"primera condicion\")\n",
    "else:\n",
    "    print(\"cuarta condicion\")"
   ]
  },
  {
   "cell_type": "code",
   "execution_count": 94,
   "metadata": {},
   "outputs": [],
   "source": [
    "def f(x):\n",
    "    return x + 2"
   ]
  },
  {
   "cell_type": "code",
   "execution_count": 97,
   "metadata": {},
   "outputs": [
    {
     "name": "stdout",
     "output_type": "stream",
     "text": [
      "3\n"
     ]
    }
   ],
   "source": [
    "numero = f(1)\n",
    "print(numero)"
   ]
  },
  {
   "cell_type": "code",
   "execution_count": 5,
   "metadata": {},
   "outputs": [],
   "source": [
    "def is_even_number(x):\n",
    "    remainder = x % 2\n",
    "    if remainder == 0:\n",
    "        return True\n",
    "    else:\n",
    "        return False"
   ]
  },
  {
   "cell_type": "code",
   "execution_count": 10,
   "metadata": {},
   "outputs": [],
   "source": [
    "is_three_even = is_even_number(3)"
   ]
  },
  {
   "cell_type": "code",
   "execution_count": 12,
   "metadata": {},
   "outputs": [
    {
     "data": {
      "text/plain": [
       "False"
      ]
     },
     "execution_count": 12,
     "metadata": {},
     "output_type": "execute_result"
    }
   ],
   "source": [
    "is_three_even and True"
   ]
  },
  {
   "cell_type": "code",
   "execution_count": 32,
   "metadata": {},
   "outputs": [],
   "source": [
    "def power(number, power=4, suma=5):\n",
    "    return number**power + suma\n",
    "\n",
    "    "
   ]
  },
  {
   "cell_type": "code",
   "execution_count": 31,
   "metadata": {},
   "outputs": [
    {
     "data": {
      "text/plain": [
       "8"
      ]
     },
     "execution_count": 31,
     "metadata": {},
     "output_type": "execute_result"
    }
   ],
   "source": [
    "power(number=2, power=3)"
   ]
  },
  {
   "cell_type": "code",
   "execution_count": 36,
   "metadata": {},
   "outputs": [
    {
     "data": {
      "text/plain": [
       "37"
      ]
     },
     "execution_count": 36,
     "metadata": {},
     "output_type": "execute_result"
    }
   ],
   "source": [
    "power(2, 5)"
   ]
  },
  {
   "cell_type": "code",
   "execution_count": null,
   "metadata": {},
   "outputs": [],
   "source": [
    "# Bucle for\n",
    "\n",
    "for elem in [1,2,3]:\n",
    "    a = elem\n",
    "    \n",
    "\n",
    "############\n",
    "# Esto es lo mismo que lo de arriba.\n",
    "# Ten en cuenta que solo se guarda el ultimo valor\n",
    "a = 1\n",
    "a = 2\n",
    "a = 3"
   ]
  }
 ],
 "metadata": {
  "kernelspec": {
   "display_name": "Python 3",
   "language": "python",
   "name": "python3"
  },
  "language_info": {
   "codemirror_mode": {
    "name": "ipython",
    "version": 3
   },
   "file_extension": ".py",
   "mimetype": "text/x-python",
   "name": "python",
   "nbconvert_exporter": "python",
   "pygments_lexer": "ipython3",
   "version": "3.7.6"
  }
 },
 "nbformat": 4,
 "nbformat_minor": 2
}
